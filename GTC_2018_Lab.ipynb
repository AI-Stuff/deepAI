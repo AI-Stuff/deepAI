{
 "cells": [
  {
   "cell_type": "markdown",
   "metadata": {
    "collapsed": true,
    "deletable": true,
    "editable": true
   },
   "source": [
    "## \"Detection of Anomalies in Financial Transactions using Deep Autoencoder Networks\""
   ]
  },
  {
   "cell_type": "markdown",
   "metadata": {},
   "source": [
    "This GPU Technology Conference (GTC) 2018 lab was developed by Mr. X, and Mr. Y"
   ]
  },
  {
   "cell_type": "markdown",
   "metadata": {},
   "source": [
    "## 01. Environment Verification"
   ]
  },
  {
   "cell_type": "markdown",
   "metadata": {},
   "source": [
    "#### 01.1 Python Verification"
   ]
  },
  {
   "cell_type": "markdown",
   "metadata": {},
   "source": [
    "Before we begin, let's verify that Python is working on your system. To do this, execute the cell block below by giving it focus (clicking on it with your mouse), and hitting Shift-Enter, or pressing the play button in the toolbar above. If all goes well, you should see some output returned below the grey cell."
   ]
  },
  {
   "cell_type": "code",
   "execution_count": 1,
   "metadata": {
    "collapsed": false
   },
   "outputs": [
    {
     "name": "stdout",
     "output_type": "stream",
     "text": [
      "The answer should be forty-two: 42\n"
     ]
    }
   ],
   "source": [
    "print('The answer should be forty-two: {}'.format(str(40+2)))"
   ]
  },
  {
   "cell_type": "markdown",
   "metadata": {},
   "source": [
    "#### 01.2 Import Python Libraries"
   ]
  },
  {
   "cell_type": "code",
   "execution_count": 2,
   "metadata": {
    "collapsed": true
   },
   "outputs": [],
   "source": [
    "# importing utilities\n",
    "import os\n",
    "from datetime import datetime\n",
    "import matplotlib.pyplot as plt\n",
    "%matplotlib inline\n",
    "\n",
    "# importing pytorch libraries\n",
    "import torch\n",
    "from torch import nn\n",
    "from torch import autograd\n",
    "from torch.utils.data import DataLoader\n",
    "\n",
    "# importing data science libraries\n",
    "import pandas as pd\n",
    "import random as rd\n",
    "import numpy as np"
   ]
  },
  {
   "cell_type": "markdown",
   "metadata": {},
   "source": [
    "#### 01.3 CUDNN / GPU Verficiation"
   ]
  },
  {
   "cell_type": "code",
   "execution_count": 3,
   "metadata": {
    "collapsed": false
   },
   "outputs": [
    {
     "name": "stdout",
     "output_type": "stream",
     "text": [
      "The CUDNN backend version: None\n"
     ]
    }
   ],
   "source": [
    "# print CUDNN backend version\n",
    "print('The CUDNN backend version: {}'.format(torch.backends.cudnn.version()))"
   ]
  },
  {
   "cell_type": "markdown",
   "metadata": {},
   "source": [
    "Let's execute the cell below to display information about the GPUs running on the server."
   ]
  },
  {
   "cell_type": "code",
   "execution_count": 4,
   "metadata": {
    "collapsed": false
   },
   "outputs": [
    {
     "name": "stdout",
     "output_type": "stream",
     "text": [
      "/bin/sh: nvidia-smi: command not found\r\n"
     ]
    }
   ],
   "source": [
    "!nvidia-smi"
   ]
  },
  {
   "cell_type": "markdown",
   "metadata": {},
   "source": [
    "Let's execute the cell below to display information about the PyTorch version running on the server."
   ]
  },
  {
   "cell_type": "code",
   "execution_count": 5,
   "metadata": {
    "collapsed": false
   },
   "outputs": [
    {
     "name": "stdout",
     "output_type": "stream",
     "text": [
      "[LOG 20180125-08:49:19] PyTorch version: 0.3.0.post4\n"
     ]
    }
   ],
   "source": [
    "# print current PyTorch version\n",
    "now = datetime.utcnow().strftime(\"%Y%m%d-%H:%M:%S\")\n",
    "print('[LOG {}] PyTorch version: {}'.format(now, torch.__version__))"
   ]
  },
  {
   "cell_type": "markdown",
   "metadata": {},
   "source": [
    "## 02. Lab Overview"
   ]
  },
  {
   "cell_type": "markdown",
   "metadata": {},
   "source": [
    "ToDo -- Timur and Marco"
   ]
  },
  {
   "cell_type": "markdown",
   "metadata": {},
   "source": [
    "<img align=\"middle\" style=\"max-width: 550px; height: auto\" src=\"images/accounting.png\">"
   ]
  },
  {
   "cell_type": "markdown",
   "metadata": {},
   "source": [
    "## 03. Autoencoder Neural Networks"
   ]
  },
  {
   "cell_type": "markdown",
   "metadata": {},
   "source": [
    "#### 03.1 Introduction to Autoencoder Neural Networks"
   ]
  },
  {
   "cell_type": "markdown",
   "metadata": {},
   "source": [
    "<img align=\"middle\" style=\"max-width: 600px; height: auto\" src=\"images/autoencoder.png\">"
   ]
  },
  {
   "cell_type": "markdown",
   "metadata": {},
   "source": [
    "#### 03.2 Implementing the Encoder Network"
   ]
  },
  {
   "cell_type": "code",
   "execution_count": 6,
   "metadata": {
    "collapsed": true
   },
   "outputs": [],
   "source": [
    "class encoder(nn.Module):\n",
    "\n",
    "    def __init__(self):\n",
    "\n",
    "        super(encoder, self).__init__()\n",
    "\n",
    "        self.dropout = nn.Dropout(p=0.0, inplace=True)\n",
    "\n",
    "        self.encoder_L1 = nn.Linear(401, 512, bias=True)\n",
    "        nn.init.xavier_uniform(self.encoder_L1.weight)\n",
    "        self.encoder_R1 = nn.LeakyReLU(negative_slope= 0.4, inplace=True)\n",
    "\n",
    "        self.encoder_L2 = nn.Linear(512, 256, bias=True)\n",
    "        nn.init.xavier_uniform(self.encoder_L2.weight)\n",
    "        self.encoder_R2 = nn.LeakyReLU(negative_slope= 0.4, inplace=True)\n",
    "\n",
    "        self.encoder_L3 = nn.Linear(256, 128, bias=True)\n",
    "        nn.init.xavier_uniform(self.encoder_L3.weight)\n",
    "        self.encoder_R3 = nn.LeakyReLU(negative_slope= 0.4, inplace=True)\n",
    "\n",
    "        self.encoder_L4 = nn.Linear(128, 64, bias=True)\n",
    "        nn.init.xavier_uniform(self.encoder_L4.weight)\n",
    "        self.encoder_R4 = nn.LeakyReLU(negative_slope= 0.4, inplace=True)\n",
    "\n",
    "        self.encoder_L5 = nn.Linear(64, 32, bias=True)\n",
    "        nn.init.xavier_uniform(self.encoder_L5.weight)\n",
    "        self.encoder_R5 = nn.LeakyReLU(negative_slope= 0.4, inplace=True)\n",
    "\n",
    "        self.encoder_L6 = nn.Linear(32, 16, bias=True)\n",
    "        nn.init.xavier_uniform(self.encoder_L6.weight)\n",
    "        self.encoder_R6 = nn.LeakyReLU(negative_slope= 0.4, inplace=True)\n",
    "\n",
    "        self.encoder_L7 = nn.Linear(16, 8, bias=True)\n",
    "        nn.init.xavier_uniform(self.encoder_L7.weight)\n",
    "        self.encoder_R7 = nn.LeakyReLU(negative_slope= 0.4, inplace=True)\n",
    "\n",
    "        self.encoder_L8 = nn.Linear(8, 4, bias=True)\n",
    "        nn.init.xavier_uniform(self.encoder_L8.weight)\n",
    "        self.encoder_R8 = nn.LeakyReLU(negative_slope= 0.4, inplace=True)\n",
    "\n",
    "        self.encoder_L9 = nn.Linear(4, 3, bias=True)\n",
    "        nn.init.xavier_uniform(self.encoder_L9.weight)\n",
    "        self.encoder_R9 = nn.LeakyReLU(negative_slope=0.4, inplace=True)\n",
    "\n",
    "    def forward(self, x):\n",
    "\n",
    "        x = self.encoder_R1(self.dropout(self.encoder_L1(x)))\n",
    "        x = self.encoder_R2(self.dropout(self.encoder_L2(x)))\n",
    "        x = self.encoder_R3(self.dropout(self.encoder_L3(x)))\n",
    "        x = self.encoder_R4(self.dropout(self.encoder_L4(x)))\n",
    "        x = self.encoder_R5(self.dropout(self.encoder_L5(x)))\n",
    "        x = self.encoder_R6(self.dropout(self.encoder_L6(x)))\n",
    "        x = self.encoder_R7(self.dropout(self.encoder_L7(x)))\n",
    "        x = self.encoder_R8(self.dropout(self.encoder_L8(x)))\n",
    "        x = self.encoder_R9(self.encoder_L9(x))\n",
    "\n",
    "        return x"
   ]
  },
  {
   "cell_type": "markdown",
   "metadata": {},
   "source": [
    "#### 03.3 Implementing the Decoder Network"
   ]
  },
  {
   "cell_type": "code",
   "execution_count": 7,
   "metadata": {
    "collapsed": true
   },
   "outputs": [],
   "source": [
    "class decoder(nn.Module):\n",
    "\n",
    "    def __init__(self):\n",
    "\n",
    "        super(decoder, self).__init__()\n",
    "\n",
    "        self.dropout = nn.Dropout(p=0.0, inplace=True)\n",
    "\n",
    "        self.decoder_L1 = nn.Linear(3, 4, bias=True)\n",
    "        nn.init.xavier_uniform(self.decoder_L1.weight)\n",
    "        self.decoder_R1 = nn.LeakyReLU(negative_slope=0.4, inplace=True)\n",
    "\n",
    "        self.decoder_L2 = nn.Linear(4, 8, bias=True)\n",
    "        nn.init.xavier_uniform(self.decoder_L2.weight)\n",
    "        self.decoder_R2 = nn.LeakyReLU(negative_slope=0.4, inplace=True)\n",
    "\n",
    "        self.decoder_L3 = nn.Linear(8, 16, bias=True)\n",
    "        nn.init.xavier_uniform(self.decoder_L3.weight)\n",
    "        self.decoder_R3 = nn.LeakyReLU(negative_slope=0.4, inplace=True)\n",
    "\n",
    "        self.decoder_L4 = nn.Linear(16, 32, bias=True)\n",
    "        nn.init.xavier_uniform(self.decoder_L4.weight)\n",
    "        self.decoder_R4 = nn.LeakyReLU(negative_slope=0.4, inplace=True)\n",
    "\n",
    "        self.decoder_L5 = nn.Linear(32, 64, bias=True)\n",
    "        nn.init.xavier_uniform(self.decoder_L5.weight)\n",
    "        self.decoder_R5 = nn.LeakyReLU(negative_slope=0.4, inplace=True)\n",
    "\n",
    "        self.decoder_L6 = nn.Linear(64, 128, bias=True)\n",
    "        nn.init.xavier_uniform(self.decoder_L6.weight)\n",
    "        self.decoder_R6 = nn.LeakyReLU(negative_slope=0.4, inplace=True)\n",
    "\n",
    "        self.decoder_L7 = nn.Linear(128, 256, bias=True)\n",
    "        nn.init.xavier_uniform(self.decoder_L7.weight)\n",
    "        self.decoder_R7 = nn.LeakyReLU(negative_slope=0.4, inplace=True)\n",
    "\n",
    "        self.decoder_L8 = nn.Linear(256, 512, bias=True)\n",
    "        nn.init.xavier_uniform(self.decoder_L8.weight)\n",
    "        self.decoder_R8 = nn.LeakyReLU(negative_slope=0.4, inplace=True)\n",
    "\n",
    "        self.decoder_L9 = nn.Linear(512, 401, bias=True)\n",
    "        nn.init.xavier_uniform(self.decoder_L9.weight)\n",
    "        self.decoder_R9 = nn.LeakyReLU(negative_slope=0.4, inplace=True)\n",
    "\n",
    "    def forward(self, x):\n",
    "\n",
    "        x = self.decoder_R1(self.dropout(self.decoder_L1(x)))\n",
    "        x = self.decoder_R2(self.dropout(self.decoder_L2(x)))\n",
    "        x = self.decoder_R3(self.dropout(self.decoder_L3(x)))\n",
    "        x = self.decoder_R4(self.dropout(self.decoder_L4(x)))\n",
    "        x = self.decoder_R5(self.dropout(self.decoder_L5(x)))\n",
    "        x = self.decoder_R6(self.dropout(self.decoder_L6(x)))\n",
    "        x = self.decoder_R7(self.dropout(self.decoder_L7(x)))\n",
    "        x = self.decoder_R8(self.dropout(self.decoder_L8(x)))\n",
    "        x = self.decoder_R9(self.decoder_L9(x))\n",
    "        \n",
    "        return x"
   ]
  },
  {
   "cell_type": "code",
   "execution_count": 8,
   "metadata": {
    "collapsed": false
   },
   "outputs": [],
   "source": [
    "# init training network classes / architectures\n",
    "encoder_train = encoder()\n",
    "decoder_train = decoder()\n",
    "\n",
    "# push to cuda if cudnn is available\n",
    "if (torch.backends.cudnn.version() != None):\n",
    "    encoder_train = encoder().cuda()\n",
    "    decoder_train = decoder().cuda()"
   ]
  },
  {
   "cell_type": "code",
   "execution_count": 9,
   "metadata": {
    "collapsed": false
   },
   "outputs": [
    {
     "name": "stdout",
     "output_type": "stream",
     "text": [
      "[LOG 20180125-08:49:19] encoder architecture:\n",
      "\n",
      "encoder(\n",
      "  (dropout): Dropout(p=0.0, inplace)\n",
      "  (encoder_L1): Linear(in_features=401, out_features=512)\n",
      "  (encoder_R1): LeakyReLU(0.4, inplace)\n",
      "  (encoder_L2): Linear(in_features=512, out_features=256)\n",
      "  (encoder_R2): LeakyReLU(0.4, inplace)\n",
      "  (encoder_L3): Linear(in_features=256, out_features=128)\n",
      "  (encoder_R3): LeakyReLU(0.4, inplace)\n",
      "  (encoder_L4): Linear(in_features=128, out_features=64)\n",
      "  (encoder_R4): LeakyReLU(0.4, inplace)\n",
      "  (encoder_L5): Linear(in_features=64, out_features=32)\n",
      "  (encoder_R5): LeakyReLU(0.4, inplace)\n",
      "  (encoder_L6): Linear(in_features=32, out_features=16)\n",
      "  (encoder_R6): LeakyReLU(0.4, inplace)\n",
      "  (encoder_L7): Linear(in_features=16, out_features=8)\n",
      "  (encoder_R7): LeakyReLU(0.4, inplace)\n",
      "  (encoder_L8): Linear(in_features=8, out_features=4)\n",
      "  (encoder_R8): LeakyReLU(0.4, inplace)\n",
      "  (encoder_L9): Linear(in_features=4, out_features=3)\n",
      "  (encoder_R9): LeakyReLU(0.4, inplace)\n",
      ")\n",
      "\n",
      "[LOG 20180125-08:49:19] decoder architecture:\n",
      "\n",
      "decoder(\n",
      "  (dropout): Dropout(p=0.0, inplace)\n",
      "  (decoder_L1): Linear(in_features=3, out_features=4)\n",
      "  (decoder_R1): LeakyReLU(0.4, inplace)\n",
      "  (decoder_L2): Linear(in_features=4, out_features=8)\n",
      "  (decoder_R2): LeakyReLU(0.4, inplace)\n",
      "  (decoder_L3): Linear(in_features=8, out_features=16)\n",
      "  (decoder_R3): LeakyReLU(0.4, inplace)\n",
      "  (decoder_L4): Linear(in_features=16, out_features=32)\n",
      "  (decoder_R4): LeakyReLU(0.4, inplace)\n",
      "  (decoder_L5): Linear(in_features=32, out_features=64)\n",
      "  (decoder_R5): LeakyReLU(0.4, inplace)\n",
      "  (decoder_L6): Linear(in_features=64, out_features=128)\n",
      "  (decoder_R6): LeakyReLU(0.4, inplace)\n",
      "  (decoder_L7): Linear(in_features=128, out_features=256)\n",
      "  (decoder_R7): LeakyReLU(0.4, inplace)\n",
      "  (decoder_L8): Linear(in_features=256, out_features=512)\n",
      "  (decoder_R8): LeakyReLU(0.4, inplace)\n",
      "  (decoder_L9): Linear(in_features=512, out_features=401)\n",
      "  (decoder_R9): LeakyReLU(0.4, inplace)\n",
      ")\n",
      "\n"
     ]
    }
   ],
   "source": [
    "# print the initialized architectures\n",
    "now = datetime.utcnow().strftime(\"%Y%m%d-%H:%M:%S\")\n",
    "print('[LOG {}] encoder architecture:\\n\\n{}\\n'.format(now, encoder_train))\n",
    "print('[LOG {}] decoder architecture:\\n\\n{}\\n'.format(now, decoder_train))"
   ]
  },
  {
   "cell_type": "markdown",
   "metadata": {},
   "source": [
    "## 04. Financial Fraud Detection Dataset"
   ]
  },
  {
   "cell_type": "markdown",
   "metadata": {},
   "source": [
    "ToDo -- Timur"
   ]
  },
  {
   "cell_type": "code",
   "execution_count": 10,
   "metadata": {
    "collapsed": false
   },
   "outputs": [
    {
     "name": "stdout",
     "output_type": "stream",
     "text": [
      "[LOG 20180125-08:49:39] encoded transactions of shape [307457/401] imported\n"
     ]
    }
   ],
   "source": [
    "# import original and encoded transactions\n",
    "ori_dataset = pd.read_csv(\"./data/transactions.csv\", sep=\",\", header=0, encoding=\"utf-8\")\n",
    "enc_dataset = pd.read_csv(\"./data/enc_transactions.csv\", sep=\",\", header=0, encoding=\"utf-8\").astype(float)\n",
    "\n",
    "now = datetime.utcnow().strftime(\"%Y%m%d-%H:%M:%S\")\n",
    "print(\"[LOG {}] encoded transactions of shape [{}/{}] imported\".format(str(now), str(enc_dataset.shape[0]), str(enc_dataset.shape[1])))\n",
    "\n",
    "torch_dataset = torch.from_numpy(enc_dataset.values).float()"
   ]
  },
  {
   "cell_type": "code",
   "execution_count": 11,
   "metadata": {
    "collapsed": false
   },
   "outputs": [
    {
     "data": {
      "text/html": [
       "<div>\n",
       "<table border=\"1\" class=\"dataframe\">\n",
       "  <thead>\n",
       "    <tr style=\"text-align: right;\">\n",
       "      <th></th>\n",
       "      <th>ID_Key</th>\n",
       "      <th>Mapping_Key</th>\n",
       "      <th>NetValueInDocumentCurrency</th>\n",
       "      <th>TaxAmountInDocumentCurrency</th>\n",
       "      <th>ProductCode_Key</th>\n",
       "      <th>AccountID_Key</th>\n",
       "      <th>CurrencyCode_Key</th>\n",
       "      <th>TaxCode_Key</th>\n",
       "      <th>CompanyKey_Key</th>\n",
       "      <th>ShipToCountry_Key</th>\n",
       "      <th>ShipFromCountry_Key</th>\n",
       "      <th>CustomerID_ShipTo_Key</th>\n",
       "      <th>CustomerID_BillTo_Key</th>\n",
       "      <th>Artifical_Outlier</th>\n",
       "      <th>Reconstruction_Error</th>\n",
       "    </tr>\n",
       "  </thead>\n",
       "  <tbody>\n",
       "    <tr>\n",
       "      <th>0</th>\n",
       "      <td>1</td>\n",
       "      <td>NaN</td>\n",
       "      <td>999999.0</td>\n",
       "      <td>50000.0000</td>\n",
       "      <td>Aplha</td>\n",
       "      <td>Bravo</td>\n",
       "      <td>Tango</td>\n",
       "      <td>Fruti</td>\n",
       "      <td>Kenya</td>\n",
       "      <td>India</td>\n",
       "      <td>Anant</td>\n",
       "      <td>Marco</td>\n",
       "      <td>Bermuda</td>\n",
       "      <td>1</td>\n",
       "      <td>NaN</td>\n",
       "    </tr>\n",
       "    <tr>\n",
       "      <th>1</th>\n",
       "      <td>2</td>\n",
       "      <td>NaN</td>\n",
       "      <td>598434.0</td>\n",
       "      <td>88000.0000</td>\n",
       "      <td>Zori</td>\n",
       "      <td>Account</td>\n",
       "      <td>Categorical</td>\n",
       "      <td>Python</td>\n",
       "      <td>Indonesia</td>\n",
       "      <td>details</td>\n",
       "      <td>?ro7ekt</td>\n",
       "      <td>placed</td>\n",
       "      <td>SOurdf</td>\n",
       "      <td>1</td>\n",
       "      <td>NaN</td>\n",
       "    </tr>\n",
       "    <tr>\n",
       "      <th>2</th>\n",
       "      <td>3</td>\n",
       "      <td>NaN</td>\n",
       "      <td>450864.0</td>\n",
       "      <td>70005.0000</td>\n",
       "      <td>Author</td>\n",
       "      <td>Book</td>\n",
       "      <td>What??</td>\n",
       "      <td>DUH!!</td>\n",
       "      <td>I</td>\n",
       "      <td>Hate</td>\n",
       "      <td>these</td>\n",
       "      <td>Anamolies</td>\n",
       "      <td>Detection</td>\n",
       "      <td>1</td>\n",
       "      <td>NaN</td>\n",
       "    </tr>\n",
       "    <tr>\n",
       "      <th>3</th>\n",
       "      <td>4</td>\n",
       "      <td>NaN</td>\n",
       "      <td>108888.0</td>\n",
       "      <td>28000.0000</td>\n",
       "      <td>top</td>\n",
       "      <td>what!</td>\n",
       "      <td>AyCaramba!</td>\n",
       "      <td>PwC</td>\n",
       "      <td>FTS</td>\n",
       "      <td>=Great</td>\n",
       "      <td>Maybe?</td>\n",
       "      <td>Artificial</td>\n",
       "      <td>Outliers</td>\n",
       "      <td>1</td>\n",
       "      <td>NaN</td>\n",
       "    </tr>\n",
       "    <tr>\n",
       "      <th>4</th>\n",
       "      <td>5</td>\n",
       "      <td>NaN</td>\n",
       "      <td>233355.0</td>\n",
       "      <td>4514.5617</td>\n",
       "      <td>Java</td>\n",
       "      <td>Progrramming</td>\n",
       "      <td>Sucks</td>\n",
       "      <td>really.</td>\n",
       "      <td>Go</td>\n",
       "      <td>Kalrsruhe!</td>\n",
       "      <td>I</td>\n",
       "      <td>am</td>\n",
       "      <td>dumb</td>\n",
       "      <td>1</td>\n",
       "      <td>NaN</td>\n",
       "    </tr>\n",
       "    <tr>\n",
       "      <th>5</th>\n",
       "      <td>6</td>\n",
       "      <td>NaN</td>\n",
       "      <td>44348.0</td>\n",
       "      <td>2691.0000</td>\n",
       "      <td>Stuttgart/Karlsruhe</td>\n",
       "      <td>(pm/rl)</td>\n",
       "      <td>Die</td>\n",
       "      <td>Forscher</td>\n",
       "      <td>Johannes</td>\n",
       "      <td>Gescher</td>\n",
       "      <td>und</td>\n",
       "      <td>Katrin</td>\n",
       "      <td>Klink</td>\n",
       "      <td>1</td>\n",
       "      <td>NaN</td>\n",
       "    </tr>\n",
       "    <tr>\n",
       "      <th>6</th>\n",
       "      <td>7</td>\n",
       "      <td>NaN</td>\n",
       "      <td>265100.0</td>\n",
       "      <td>4083.0000</td>\n",
       "      <td>Für</td>\n",
       "      <td>die</td>\n",
       "      <td>Ausschreibung</td>\n",
       "      <td>„Fellowships</td>\n",
       "      <td>für</td>\n",
       "      <td>Innovationen</td>\n",
       "      <td>in</td>\n",
       "      <td>der</td>\n",
       "      <td>Hochschullehre“</td>\n",
       "      <td>1</td>\n",
       "      <td>NaN</td>\n",
       "    </tr>\n",
       "    <tr>\n",
       "      <th>7</th>\n",
       "      <td>8</td>\n",
       "      <td>NaN</td>\n",
       "      <td>102940.0</td>\n",
       "      <td>2026.0000</td>\n",
       "      <td>Christoph</td>\n",
       "      <td>Dahl,</td>\n",
       "      <td>Geschäftsführer</td>\n",
       "      <td>der</td>\n",
       "      <td>Baden-Württemberg</td>\n",
       "      <td>Stiftung,</td>\n",
       "      <td>lobte</td>\n",
       "      <td>die</td>\n",
       "      <td>Arbeit</td>\n",
       "      <td>1</td>\n",
       "      <td>NaN</td>\n",
       "    </tr>\n",
       "    <tr>\n",
       "      <th>8</th>\n",
       "      <td>9</td>\n",
       "      <td>NaN</td>\n",
       "      <td>104639.0</td>\n",
       "      <td>4137.0000</td>\n",
       "      <td>vom</td>\n",
       "      <td>Karlsruher</td>\n",
       "      <td>Institut</td>\n",
       "      <td>für</td>\n",
       "      <td>Technologie</td>\n",
       "      <td>(KIT)</td>\n",
       "      <td>sind</td>\n",
       "      <td>für</td>\n",
       "      <td>ihre</td>\n",
       "      <td>1</td>\n",
       "      <td>NaN</td>\n",
       "    </tr>\n",
       "    <tr>\n",
       "      <th>9</th>\n",
       "      <td>10</td>\n",
       "      <td>NaN</td>\n",
       "      <td>815721.0</td>\n",
       "      <td>2806.0000</td>\n",
       "      <td>der</td>\n",
       "      <td>Baden-Württemberg</td>\n",
       "      <td>Stiftung</td>\n",
       "      <td>sind</td>\n",
       "      <td>rund</td>\n",
       "      <td>120</td>\n",
       "      <td>Anträge</td>\n",
       "      <td>eingegangen.</td>\n",
       "      <td>Aus</td>\n",
       "      <td>1</td>\n",
       "      <td>NaN</td>\n",
       "    </tr>\n",
       "  </tbody>\n",
       "</table>\n",
       "</div>"
      ],
      "text/plain": [
       "   ID_Key Mapping_Key  NetValueInDocumentCurrency  \\\n",
       "0       1         NaN                    999999.0   \n",
       "1       2         NaN                    598434.0   \n",
       "2       3         NaN                    450864.0   \n",
       "3       4         NaN                    108888.0   \n",
       "4       5         NaN                    233355.0   \n",
       "5       6         NaN                     44348.0   \n",
       "6       7         NaN                    265100.0   \n",
       "7       8         NaN                    102940.0   \n",
       "8       9         NaN                    104639.0   \n",
       "9      10         NaN                    815721.0   \n",
       "\n",
       "   TaxAmountInDocumentCurrency      ProductCode_Key      AccountID_Key  \\\n",
       "0                   50000.0000                Aplha              Bravo   \n",
       "1                   88000.0000                 Zori            Account   \n",
       "2                   70005.0000               Author               Book   \n",
       "3                   28000.0000                  top              what!   \n",
       "4                    4514.5617                 Java       Progrramming   \n",
       "5                    2691.0000  Stuttgart/Karlsruhe            (pm/rl)   \n",
       "6                    4083.0000                  Für                die   \n",
       "7                    2026.0000            Christoph              Dahl,   \n",
       "8                    4137.0000                  vom         Karlsruher   \n",
       "9                    2806.0000                  der  Baden-Württemberg   \n",
       "\n",
       "  CurrencyCode_Key   TaxCode_Key     CompanyKey_Key ShipToCountry_Key  \\\n",
       "0            Tango         Fruti              Kenya             India   \n",
       "1      Categorical        Python          Indonesia           details   \n",
       "2           What??         DUH!!                  I              Hate   \n",
       "3       AyCaramba!           PwC                FTS            =Great   \n",
       "4            Sucks       really.                 Go        Kalrsruhe!   \n",
       "5              Die      Forscher           Johannes           Gescher   \n",
       "6    Ausschreibung  „Fellowships                für      Innovationen   \n",
       "7  Geschäftsführer           der  Baden-Württemberg         Stiftung,   \n",
       "8         Institut           für        Technologie             (KIT)   \n",
       "9         Stiftung          sind               rund               120   \n",
       "\n",
       "  ShipFromCountry_Key CustomerID_ShipTo_Key CustomerID_BillTo_Key  \\\n",
       "0               Anant                 Marco               Bermuda   \n",
       "1             ?ro7ekt                placed                SOurdf   \n",
       "2               these             Anamolies             Detection   \n",
       "3              Maybe?            Artificial              Outliers   \n",
       "4                   I                    am                  dumb   \n",
       "5                 und                Katrin                 Klink   \n",
       "6                  in                   der       Hochschullehre“   \n",
       "7               lobte                   die                Arbeit   \n",
       "8                sind                   für                  ihre   \n",
       "9             Anträge          eingegangen.                   Aus   \n",
       "\n",
       "   Artifical_Outlier  Reconstruction_Error  \n",
       "0                  1                   NaN  \n",
       "1                  1                   NaN  \n",
       "2                  1                   NaN  \n",
       "3                  1                   NaN  \n",
       "4                  1                   NaN  \n",
       "5                  1                   NaN  \n",
       "6                  1                   NaN  \n",
       "7                  1                   NaN  \n",
       "8                  1                   NaN  \n",
       "9                  1                   NaN  "
      ]
     },
     "execution_count": 11,
     "metadata": {},
     "output_type": "execute_result"
    }
   ],
   "source": [
    "ori_dataset.head(10)"
   ]
  },
  {
   "cell_type": "code",
   "execution_count": 12,
   "metadata": {
    "collapsed": false
   },
   "outputs": [],
   "source": [
    "features = [\"AccountID_Key\", \"CurrencyCode_Key\", \"TaxCode_Key\", \"CompanyKey_Key\", \"ShipToCountry_Key\", \"ShipFromCountry_Key\"]\n",
    "ranges = [0, 62+1, 121+1, 183+1, 234+1, 349+1, 400+1]\n",
    "\n",
    "# init training results\n",
    "columns = [\"timestamp\", \"node\", \"seed\", \"architecture\", \"epoch\", \"rec_loss\", \"roc_auc\", \"anomalies\", \"normalies\", \"anomalies_s\", \"normalies_s\", \"max_threshold\", \"max_tpr_s\", \"max_fpr_s\", \"precision\", \"recall\", \"f1_score\", \"fpr\", \"tpr\", \"thresholds\"]\n",
    "evaluations = [\"err_\" + str(element) for element in range(0, (len(features))+1)]\n",
    "columns.extend(evaluations)\n",
    "evaluations = [\"ano_c1_\" + str(element) for element in range(0, (len(features))+1)]\n",
    "columns.extend(evaluations)\n",
    "evaluations = [\"ano_c2_\" + str(element) for element in range(0, (len(features))+1)]\n",
    "columns.extend(evaluations)\n",
    "evaluation_results = pd.DataFrame(columns=columns)"
   ]
  },
  {
   "cell_type": "markdown",
   "metadata": {},
   "source": [
    "## 05. Network Training"
   ]
  },
  {
   "cell_type": "markdown",
   "metadata": {},
   "source": [
    "ToDo - Timur and Marco"
   ]
  },
  {
   "cell_type": "code",
   "execution_count": 13,
   "metadata": {
    "collapsed": false
   },
   "outputs": [
    {
     "name": "stdout",
     "output_type": "stream",
     "text": [
      "[LOG 20180125-08_49_45] training status, epoch: [0001/0010], batch: 0100, loss: 0.0274375156\n",
      "[LOG 20180125-08_49_49] training status, epoch: [0001/0010], batch: 0200, loss: 0.0174645148\n",
      "[LOG 20180125-08_49_52] training status, epoch: [0001/0010], batch: 0300, loss: 0.0082735242\n",
      "[LOG 20180125-08_49_55] training status, epoch: [0001/0010], batch: 0400, loss: 0.0069946530\n",
      "[LOG 20180125-08_49_58] training status, epoch: [0001/0010], batch: 0500, loss: 0.0053769667\n",
      "[LOG 20180125-08_50_01] training status, epoch: [0001/0010], batch: 0600, loss: 0.0069966190\n",
      "[LOG 20180125-08_50_04] training status, epoch: [0001/0010], batch: 0700, loss: 0.0053451452\n",
      "[LOG 20180125-08_50_07] training status, epoch: [0001/0010], batch: 0800, loss: 0.0035927675\n",
      "[LOG 20180125-08_50_11] training status, epoch: [0001/0010], batch: 0900, loss: 0.0029478113\n",
      "[LOG 20180125-08_50_15] training status, epoch: [0001/0010], batch: 1000, loss: 0.0028416477\n",
      "[LOG 20180125-08_50_19] training status, epoch: [0001/0010], batch: 1100, loss: 0.0031440654\n",
      "[LOG 20180125-08_50_22] training status, epoch: [0001/0010], batch: 1200, loss: 0.0053522657\n",
      "[LOG 20180125-08_50_25] training status, epoch: [0001/0010], batch: 1300, loss: 0.0030031146\n",
      "[LOG 20180125-08_50_28] training status, epoch: [0001/0010], batch: 1400, loss: 0.0048323041\n",
      "[LOG 20180125-08_50_31] training status, epoch: [0001/0010], batch: 1500, loss: 0.0033528353\n",
      "[LOG 20180125-08_50_35] training status, epoch: [0001/0010], batch: 1600, loss: 0.0026675025\n",
      "[LOG 20180125-08_50_38] training status, epoch: [0001/0010], batch: 1700, loss: 0.0032466999\n",
      "[LOG 20180125-08_50_42] training status, epoch: [0001/0010], batch: 1800, loss: 0.0020601579\n",
      "[LOG 20180125-08_50_45] training status, epoch: [0001/0010], batch: 1900, loss: 0.0022864621\n",
      "[LOG 20180125-08_50_49] training status, epoch: [0001/0010], batch: 2000, loss: 0.0033078406\n",
      "[LOG 20180125-08_50_53] training status, epoch: [0001/0010], batch: 2100, loss: 0.0020727885\n",
      "[LOG 20180125-08_50_58] training status, epoch: [0001/0010], batch: 2200, loss: 0.0025662226\n",
      "[LOG 20180125-08_51_01] training status, epoch: [0001/0010], batch: 2300, loss: 0.0018359601\n",
      "[LOG 20180125-08_51_04] training status, epoch: [0001/0010], batch: 2400, loss: 0.0024230301\n",
      "[LOG 20180125-08_51_07] training status, epoch: [0002/0010], batch: 0100, loss: 0.0019330899\n",
      "[LOG 20180125-08_51_10] training status, epoch: [0002/0010], batch: 0200, loss: 0.0016046999\n",
      "[LOG 20180125-08_51_13] training status, epoch: [0002/0010], batch: 0300, loss: 0.0020069813\n",
      "[LOG 20180125-08_51_17] training status, epoch: [0002/0010], batch: 0400, loss: 0.0029661909\n",
      "[LOG 20180125-08_51_20] training status, epoch: [0002/0010], batch: 0500, loss: 0.0014648723\n",
      "[LOG 20180125-08_51_23] training status, epoch: [0002/0010], batch: 0600, loss: 0.0023244910\n",
      "[LOG 20180125-08_51_27] training status, epoch: [0002/0010], batch: 0700, loss: 0.0010045266\n",
      "[LOG 20180125-08_51_32] training status, epoch: [0002/0010], batch: 0800, loss: 0.0011724480\n",
      "[LOG 20180125-08_51_37] training status, epoch: [0002/0010], batch: 0900, loss: 0.0011225803\n",
      "[LOG 20180125-08_51_41] training status, epoch: [0002/0010], batch: 1000, loss: 0.0282042772\n",
      "[LOG 20180125-08_51_45] training status, epoch: [0002/0010], batch: 1100, loss: 0.0036199160\n",
      "[LOG 20180125-08_51_48] training status, epoch: [0002/0010], batch: 1200, loss: 0.0034995975\n",
      "[LOG 20180125-08_51_52] training status, epoch: [0002/0010], batch: 1300, loss: 0.0025672887\n",
      "[LOG 20180125-08_51_56] training status, epoch: [0002/0010], batch: 1400, loss: 0.0057919924\n",
      "[LOG 20180125-08_51_59] training status, epoch: [0002/0010], batch: 1500, loss: 0.0016977156\n",
      "[LOG 20180125-08_52_03] training status, epoch: [0002/0010], batch: 1600, loss: 0.0021700256\n",
      "[LOG 20180125-08_52_06] training status, epoch: [0002/0010], batch: 1700, loss: 0.0018524533\n",
      "[LOG 20180125-08_52_10] training status, epoch: [0002/0010], batch: 1800, loss: 0.0013535742\n",
      "[LOG 20180125-08_52_14] training status, epoch: [0002/0010], batch: 1900, loss: 0.0016319701\n",
      "[LOG 20180125-08_52_17] training status, epoch: [0002/0010], batch: 2000, loss: 0.0016563113\n",
      "[LOG 20180125-08_52_20] training status, epoch: [0002/0010], batch: 2100, loss: 0.0018765564\n",
      "[LOG 20180125-08_52_24] training status, epoch: [0002/0010], batch: 2200, loss: 0.0012716266\n",
      "[LOG 20180125-08_52_28] training status, epoch: [0002/0010], batch: 2300, loss: 0.0074234176\n",
      "[LOG 20180125-08_52_31] training status, epoch: [0002/0010], batch: 2400, loss: 0.0029455344\n",
      "[LOG 20180125-08_52_35] training status, epoch: [0003/0010], batch: 0100, loss: 0.0026847436\n",
      "[LOG 20180125-08_52_38] training status, epoch: [0003/0010], batch: 0200, loss: 0.0009298215\n",
      "[LOG 20180125-08_52_42] training status, epoch: [0003/0010], batch: 0300, loss: 0.0013461261\n",
      "[LOG 20180125-08_52_45] training status, epoch: [0003/0010], batch: 0400, loss: 0.0009335273\n",
      "[LOG 20180125-08_52_48] training status, epoch: [0003/0010], batch: 0500, loss: 0.0012866688\n",
      "[LOG 20180125-08_52_52] training status, epoch: [0003/0010], batch: 0600, loss: 0.0013896143\n",
      "[LOG 20180125-08_52_55] training status, epoch: [0003/0010], batch: 0700, loss: 0.0008317492\n",
      "[LOG 20180125-08_52_58] training status, epoch: [0003/0010], batch: 0800, loss: 0.0010925093\n",
      "[LOG 20180125-08_53_02] training status, epoch: [0003/0010], batch: 0900, loss: 0.0008686027\n",
      "[LOG 20180125-08_53_05] training status, epoch: [0003/0010], batch: 1000, loss: 0.0008528739\n",
      "[LOG 20180125-08_53_08] training status, epoch: [0003/0010], batch: 1100, loss: 0.0010120494\n",
      "[LOG 20180125-08_53_11] training status, epoch: [0003/0010], batch: 1200, loss: 0.0028016090\n",
      "[LOG 20180125-08_53_14] training status, epoch: [0003/0010], batch: 1300, loss: 0.0013651173\n",
      "[LOG 20180125-08_53_17] training status, epoch: [0003/0010], batch: 1400, loss: 0.0011890802\n",
      "[LOG 20180125-08_53_20] training status, epoch: [0003/0010], batch: 1500, loss: 0.0034422164\n",
      "[LOG 20180125-08_53_23] training status, epoch: [0003/0010], batch: 1600, loss: 0.0009367354\n",
      "[LOG 20180125-08_53_27] training status, epoch: [0003/0010], batch: 1700, loss: 0.0020428624\n",
      "[LOG 20180125-08_53_30] training status, epoch: [0003/0010], batch: 1800, loss: 0.0007934551\n",
      "[LOG 20180125-08_53_33] training status, epoch: [0003/0010], batch: 1900, loss: 0.0017787780\n",
      "[LOG 20180125-08_53_36] training status, epoch: [0003/0010], batch: 2000, loss: 0.0017025537\n",
      "[LOG 20180125-08_53_39] training status, epoch: [0003/0010], batch: 2100, loss: 0.0014214892\n",
      "[LOG 20180125-08_53_42] training status, epoch: [0003/0010], batch: 2200, loss: 0.0010465509\n",
      "[LOG 20180125-08_53_45] training status, epoch: [0003/0010], batch: 2300, loss: 0.0033934030\n",
      "[LOG 20180125-08_53_48] training status, epoch: [0003/0010], batch: 2400, loss: 0.0005189593\n",
      "[LOG 20180125-08_53_51] training status, epoch: [0004/0010], batch: 0100, loss: 0.0043990402\n",
      "[LOG 20180125-08_53_55] training status, epoch: [0004/0010], batch: 0200, loss: 0.0009984657\n",
      "[LOG 20180125-08_53_57] training status, epoch: [0004/0010], batch: 0300, loss: 0.0020035512\n",
      "[LOG 20180125-08_54_01] training status, epoch: [0004/0010], batch: 0400, loss: 0.0011332071\n",
      "[LOG 20180125-08_54_04] training status, epoch: [0004/0010], batch: 0500, loss: 0.0007451448\n",
      "[LOG 20180125-08_54_07] training status, epoch: [0004/0010], batch: 0600, loss: 0.0014248512\n",
      "[LOG 20180125-08_54_10] training status, epoch: [0004/0010], batch: 0700, loss: 0.0009189575\n",
      "[LOG 20180125-08_54_13] training status, epoch: [0004/0010], batch: 0800, loss: 0.0010643667\n",
      "[LOG 20180125-08_54_17] training status, epoch: [0004/0010], batch: 0900, loss: 0.0013420514\n",
      "[LOG 20180125-08_54_20] training status, epoch: [0004/0010], batch: 1000, loss: 0.0011173339\n",
      "[LOG 20180125-08_54_24] training status, epoch: [0004/0010], batch: 1100, loss: 0.0007209727\n",
      "[LOG 20180125-08_54_27] training status, epoch: [0004/0010], batch: 1200, loss: 0.0019370556\n",
      "[LOG 20180125-08_54_30] training status, epoch: [0004/0010], batch: 1300, loss: 0.0008676780\n",
      "[LOG 20180125-08_54_33] training status, epoch: [0004/0010], batch: 1400, loss: 0.0010766266\n",
      "[LOG 20180125-08_54_36] training status, epoch: [0004/0010], batch: 1500, loss: 0.0011043877\n",
      "[LOG 20180125-08_54_39] training status, epoch: [0004/0010], batch: 1600, loss: 0.0009159778\n",
      "[LOG 20180125-08_54_42] training status, epoch: [0004/0010], batch: 1700, loss: 0.0003905415\n",
      "[LOG 20180125-08_54_45] training status, epoch: [0004/0010], batch: 1800, loss: 0.0010546020\n",
      "[LOG 20180125-08_54_49] training status, epoch: [0004/0010], batch: 1900, loss: 0.0006326878\n",
      "[LOG 20180125-08_54_52] training status, epoch: [0004/0010], batch: 2000, loss: 0.0009984174\n",
      "[LOG 20180125-08_54_54] training status, epoch: [0004/0010], batch: 2100, loss: 0.0033460835\n",
      "[LOG 20180125-08_54_57] training status, epoch: [0004/0010], batch: 2200, loss: 0.0007314572\n",
      "[LOG 20180125-08_55_00] training status, epoch: [0004/0010], batch: 2300, loss: 0.0004911198\n",
      "[LOG 20180125-08_55_03] training status, epoch: [0004/0010], batch: 2400, loss: 0.0035424577\n",
      "[LOG 20180125-08_55_06] training status, epoch: [0005/0010], batch: 0100, loss: 0.0012994106\n",
      "[LOG 20180125-08_55_09] training status, epoch: [0005/0010], batch: 0200, loss: 0.0006478245\n",
      "[LOG 20180125-08_55_12] training status, epoch: [0005/0010], batch: 0300, loss: 0.0012047130\n",
      "[LOG 20180125-08_55_15] training status, epoch: [0005/0010], batch: 0400, loss: 0.0006068120\n",
      "[LOG 20180125-08_55_18] training status, epoch: [0005/0010], batch: 0500, loss: 0.0003474320\n",
      "[LOG 20180125-08_55_22] training status, epoch: [0005/0010], batch: 0600, loss: 0.0006517596\n",
      "[LOG 20180125-08_55_25] training status, epoch: [0005/0010], batch: 0700, loss: 0.0010042136\n",
      "[LOG 20180125-08_55_28] training status, epoch: [0005/0010], batch: 0800, loss: 0.0004479067\n",
      "[LOG 20180125-08_55_32] training status, epoch: [0005/0010], batch: 0900, loss: 0.0001818787\n",
      "[LOG 20180125-08_55_35] training status, epoch: [0005/0010], batch: 1000, loss: 0.0010754176\n",
      "[LOG 20180125-08_55_38] training status, epoch: [0005/0010], batch: 1100, loss: 0.0012345222\n",
      "[LOG 20180125-08_55_41] training status, epoch: [0005/0010], batch: 1200, loss: 0.0004680627\n",
      "[LOG 20180125-08_55_44] training status, epoch: [0005/0010], batch: 1300, loss: 0.0005482768\n",
      "[LOG 20180125-08_55_48] training status, epoch: [0005/0010], batch: 1400, loss: 0.0002346474\n",
      "[LOG 20180125-08_55_51] training status, epoch: [0005/0010], batch: 1500, loss: 0.0004127454\n",
      "[LOG 20180125-08_55_56] training status, epoch: [0005/0010], batch: 1600, loss: 0.0004589100\n",
      "[LOG 20180125-08_56_01] training status, epoch: [0005/0010], batch: 1700, loss: 0.0006561905\n",
      "[LOG 20180125-08_56_06] training status, epoch: [0005/0010], batch: 1800, loss: 0.0024664316\n",
      "[LOG 20180125-08_56_09] training status, epoch: [0005/0010], batch: 1900, loss: 0.0005095351\n",
      "[LOG 20180125-08_56_12] training status, epoch: [0005/0010], batch: 2000, loss: 0.0005191066\n",
      "[LOG 20180125-08_56_16] training status, epoch: [0005/0010], batch: 2100, loss: 0.0002165884\n",
      "[LOG 20180125-08_56_18] training status, epoch: [0005/0010], batch: 2200, loss: 0.0004673045\n",
      "[LOG 20180125-08_56_21] training status, epoch: [0005/0010], batch: 2300, loss: 0.0017984837\n",
      "[LOG 20180125-08_56_24] training status, epoch: [0005/0010], batch: 2400, loss: 0.0001738707\n",
      "[LOG 20180125-08_56_28] training status, epoch: [0006/0010], batch: 0100, loss: 0.0004471997\n",
      "[LOG 20180125-08_56_31] training status, epoch: [0006/0010], batch: 0200, loss: 0.0005410252\n",
      "[LOG 20180125-08_56_35] training status, epoch: [0006/0010], batch: 0300, loss: 0.0004624817\n",
      "[LOG 20180125-08_56_38] training status, epoch: [0006/0010], batch: 0400, loss: 0.0034849641\n",
      "[LOG 20180125-08_56_42] training status, epoch: [0006/0010], batch: 0500, loss: 0.0002321665\n",
      "[LOG 20180125-08_56_46] training status, epoch: [0006/0010], batch: 0600, loss: 0.0010704447\n",
      "[LOG 20180125-08_56_49] training status, epoch: [0006/0010], batch: 0700, loss: 0.0002273332\n",
      "[LOG 20180125-08_56_52] training status, epoch: [0006/0010], batch: 0800, loss: 0.0005597641\n",
      "[LOG 20180125-08_56_55] training status, epoch: [0006/0010], batch: 0900, loss: 0.0001868720\n",
      "[LOG 20180125-08_56_58] training status, epoch: [0006/0010], batch: 1000, loss: 0.0001718643\n",
      "[LOG 20180125-08_57_01] training status, epoch: [0006/0010], batch: 1100, loss: 0.0000954077\n",
      "[LOG 20180125-08_57_04] training status, epoch: [0006/0010], batch: 1200, loss: 0.0003358622\n",
      "[LOG 20180125-08_57_09] training status, epoch: [0006/0010], batch: 1300, loss: 0.0005820764\n",
      "[LOG 20180125-08_57_12] training status, epoch: [0006/0010], batch: 1400, loss: 0.0003904425\n",
      "[LOG 20180125-08_57_16] training status, epoch: [0006/0010], batch: 1500, loss: 0.0002713226\n",
      "[LOG 20180125-08_57_20] training status, epoch: [0006/0010], batch: 1600, loss: 0.0487065762\n",
      "[LOG 20180125-08_57_23] training status, epoch: [0006/0010], batch: 1700, loss: 0.0031195609\n",
      "[LOG 20180125-08_57_28] training status, epoch: [0006/0010], batch: 1800, loss: 0.0016993735\n",
      "[LOG 20180125-08_57_34] training status, epoch: [0006/0010], batch: 1900, loss: 0.0011091320\n",
      "[LOG 20180125-08_57_41] training status, epoch: [0006/0010], batch: 2000, loss: 0.0015021183\n",
      "[LOG 20180125-08_57_46] training status, epoch: [0006/0010], batch: 2100, loss: 0.0019254404\n",
      "[LOG 20180125-08_57_50] training status, epoch: [0006/0010], batch: 2200, loss: 0.0005105078\n",
      "[LOG 20180125-08_57_53] training status, epoch: [0006/0010], batch: 2300, loss: 0.0006418703\n",
      "[LOG 20180125-08_57_56] training status, epoch: [0006/0010], batch: 2400, loss: 0.0006101452\n",
      "[LOG 20180125-08_57_59] training status, epoch: [0007/0010], batch: 0100, loss: 0.0002588030\n",
      "[LOG 20180125-08_58_02] training status, epoch: [0007/0010], batch: 0200, loss: 0.0005787085\n",
      "[LOG 20180125-08_58_05] training status, epoch: [0007/0010], batch: 0300, loss: 0.0005682099\n",
      "[LOG 20180125-08_58_09] training status, epoch: [0007/0010], batch: 0400, loss: 0.0002902539\n",
      "[LOG 20180125-08_58_12] training status, epoch: [0007/0010], batch: 0500, loss: 0.0003902810\n",
      "[LOG 20180125-08_58_15] training status, epoch: [0007/0010], batch: 0600, loss: 0.0005349085\n",
      "[LOG 20180125-08_58_18] training status, epoch: [0007/0010], batch: 0700, loss: 0.0001494797\n",
      "[LOG 20180125-08_58_21] training status, epoch: [0007/0010], batch: 0800, loss: 0.0005832075\n",
      "[LOG 20180125-08_58_24] training status, epoch: [0007/0010], batch: 0900, loss: 0.0001894725\n",
      "[LOG 20180125-08_58_27] training status, epoch: [0007/0010], batch: 1000, loss: 0.0006393894\n",
      "[LOG 20180125-08_58_30] training status, epoch: [0007/0010], batch: 1100, loss: 0.0003173688\n",
      "[LOG 20180125-08_58_36] training status, epoch: [0007/0010], batch: 1200, loss: 0.0000616539\n",
      "[LOG 20180125-08_58_41] training status, epoch: [0007/0010], batch: 1300, loss: 0.0003332700\n",
      "[LOG 20180125-08_58_50] training status, epoch: [0007/0010], batch: 1400, loss: 0.0009177382\n",
      "[LOG 20180125-08_58_55] training status, epoch: [0007/0010], batch: 1500, loss: 0.0003318211\n",
      "[LOG 20180125-08_59_01] training status, epoch: [0007/0010], batch: 1600, loss: 0.0003544819\n",
      "[LOG 20180125-08_59_07] training status, epoch: [0007/0010], batch: 1700, loss: 0.0011775072\n",
      "[LOG 20180125-08_59_11] training status, epoch: [0007/0010], batch: 1800, loss: 0.0001649549\n",
      "[LOG 20180125-08_59_16] training status, epoch: [0007/0010], batch: 1900, loss: 0.0017720069\n",
      "[LOG 20180125-08_59_24] training status, epoch: [0007/0010], batch: 2000, loss: 0.0006272951\n",
      "[LOG 20180125-08_59_31] training status, epoch: [0007/0010], batch: 2100, loss: 0.0005318106\n",
      "[LOG 20180125-08_59_36] training status, epoch: [0007/0010], batch: 2200, loss: 0.0005169311\n",
      "[LOG 20180125-08_59_39] training status, epoch: [0007/0010], batch: 2300, loss: 0.0001219997\n",
      "[LOG 20180125-08_59_42] training status, epoch: [0007/0010], batch: 2400, loss: 0.0006383322\n",
      "[LOG 20180125-08_59_45] training status, epoch: [0008/0010], batch: 0100, loss: 0.0002629394\n",
      "[LOG 20180125-08_59_48] training status, epoch: [0008/0010], batch: 0200, loss: 0.0002012643\n",
      "[LOG 20180125-08_59_51] training status, epoch: [0008/0010], batch: 0300, loss: 0.0000924392\n",
      "[LOG 20180125-08_59_54] training status, epoch: [0008/0010], batch: 0400, loss: 0.0036832951\n",
      "[LOG 20180125-08_59_57] training status, epoch: [0008/0010], batch: 0500, loss: 0.0007491189\n",
      "[LOG 20180125-09_00_00] training status, epoch: [0008/0010], batch: 0600, loss: 0.0001524733\n",
      "[LOG 20180125-09_00_03] training status, epoch: [0008/0010], batch: 0700, loss: 0.0001844403\n",
      "[LOG 20180125-09_00_08] training status, epoch: [0008/0010], batch: 0800, loss: 0.0002715847\n",
      "[LOG 20180125-09_00_14] training status, epoch: [0008/0010], batch: 0900, loss: 0.0001893233\n",
      "[LOG 20180125-09_00_16] training status, epoch: [0008/0010], batch: 1000, loss: 0.0001813047\n",
      "[LOG 20180125-09_00_20] training status, epoch: [0008/0010], batch: 1100, loss: 0.0072865258\n",
      "[LOG 20180125-09_00_23] training status, epoch: [0008/0010], batch: 1200, loss: 0.0025954647\n",
      "[LOG 20180125-09_00_26] training status, epoch: [0008/0010], batch: 1300, loss: 0.0001745684\n",
      "[LOG 20180125-09_00_29] training status, epoch: [0008/0010], batch: 1400, loss: 0.0002251026\n",
      "[LOG 20180125-09_00_32] training status, epoch: [0008/0010], batch: 1500, loss: 0.0003018193\n",
      "[LOG 20180125-09_00_40] training status, epoch: [0008/0010], batch: 1600, loss: 0.0002554857\n",
      "[LOG 20180125-09_00_45] training status, epoch: [0008/0010], batch: 1700, loss: 0.0002956305\n",
      "[LOG 20180125-09_00_49] training status, epoch: [0008/0010], batch: 1800, loss: 0.0020967696\n",
      "[LOG 20180125-09_00_53] training status, epoch: [0008/0010], batch: 1900, loss: 0.0018149182\n",
      "[LOG 20180125-09_00_56] training status, epoch: [0008/0010], batch: 2000, loss: 0.0003221947\n",
      "[LOG 20180125-09_00_59] training status, epoch: [0008/0010], batch: 2100, loss: 0.0002884427\n",
      "[LOG 20180125-09_01_03] training status, epoch: [0008/0010], batch: 2200, loss: 0.0002646270\n",
      "[LOG 20180125-09_01_07] training status, epoch: [0008/0010], batch: 2300, loss: 0.0012084191\n",
      "[LOG 20180125-09_01_11] training status, epoch: [0008/0010], batch: 2400, loss: 0.0004670013\n",
      "[LOG 20180125-09_01_14] training status, epoch: [0009/0010], batch: 0100, loss: 0.0001849020\n",
      "[LOG 20180125-09_01_17] training status, epoch: [0009/0010], batch: 0200, loss: 0.0012240333\n",
      "[LOG 20180125-09_01_21] training status, epoch: [0009/0010], batch: 0300, loss: 0.0004276188\n",
      "[LOG 20180125-09_01_24] training status, epoch: [0009/0010], batch: 0400, loss: 0.0010954486\n",
      "[LOG 20180125-09_01_27] training status, epoch: [0009/0010], batch: 0500, loss: 0.0005693024\n",
      "[LOG 20180125-09_01_31] training status, epoch: [0009/0010], batch: 0600, loss: 0.0001728542\n",
      "[LOG 20180125-09_01_34] training status, epoch: [0009/0010], batch: 0700, loss: 0.0003578528\n",
      "[LOG 20180125-09_01_38] training status, epoch: [0009/0010], batch: 0800, loss: 0.0004735102\n",
      "[LOG 20180125-09_02_25] training status, epoch: [0009/0010], batch: 0900, loss: 0.0001963902\n",
      "[LOG 20180125-09_02_36] training status, epoch: [0009/0010], batch: 1000, loss: 0.0001520739\n",
      "[LOG 20180125-09_02_48] training status, epoch: [0009/0010], batch: 1100, loss: 0.0001209207\n",
      "[LOG 20180125-09_03_01] training status, epoch: [0009/0010], batch: 1200, loss: 0.0001574015\n",
      "[LOG 20180125-09_03_13] training status, epoch: [0009/0010], batch: 1300, loss: 0.0001186871\n",
      "[LOG 20180125-09_03_23] training status, epoch: [0009/0010], batch: 1400, loss: 0.0001288817\n",
      "[LOG 20180125-09_03_27] training status, epoch: [0009/0010], batch: 1500, loss: 0.0000851892\n",
      "[LOG 20180125-09_03_31] training status, epoch: [0009/0010], batch: 1600, loss: 0.0005594472\n",
      "[LOG 20180125-09_03_36] training status, epoch: [0009/0010], batch: 1700, loss: 0.0004390227\n",
      "[LOG 20180125-09_03_39] training status, epoch: [0009/0010], batch: 1800, loss: 0.0003028424\n",
      "[LOG 20180125-09_03_42] training status, epoch: [0009/0010], batch: 1900, loss: 0.0001635571\n",
      "[LOG 20180125-09_03_45] training status, epoch: [0009/0010], batch: 2000, loss: 0.0002126034\n",
      "[LOG 20180125-09_03_51] training status, epoch: [0009/0010], batch: 2100, loss: 0.0004744544\n",
      "[LOG 20180125-09_03_57] training status, epoch: [0009/0010], batch: 2200, loss: 0.0002798030\n",
      "[LOG 20180125-09_04_03] training status, epoch: [0009/0010], batch: 2300, loss: 0.0003294187\n",
      "[LOG 20180125-09_04_13] training status, epoch: [0009/0010], batch: 2400, loss: 0.0003564427\n",
      "[LOG 20180125-09_04_25] training status, epoch: [0010/0010], batch: 0100, loss: 0.0002615184\n",
      "[LOG 20180125-09_04_41] training status, epoch: [0010/0010], batch: 0200, loss: 0.0003077175\n",
      "[LOG 20180125-09_04_47] training status, epoch: [0010/0010], batch: 0300, loss: 0.0004665465\n",
      "[LOG 20180125-09_04_57] training status, epoch: [0010/0010], batch: 0400, loss: 0.0002259590\n",
      "[LOG 20180125-09_05_00] training status, epoch: [0010/0010], batch: 0500, loss: 0.0002467828\n",
      "[LOG 20180125-09_05_07] training status, epoch: [0010/0010], batch: 0600, loss: 0.0002773034\n",
      "[LOG 20180125-09_05_19] training status, epoch: [0010/0010], batch: 0700, loss: 0.0002498262\n",
      "[LOG 20180125-09_05_30] training status, epoch: [0010/0010], batch: 0800, loss: 0.0001687153\n",
      "[LOG 20180125-09_05_40] training status, epoch: [0010/0010], batch: 0900, loss: 0.0001754687\n",
      "[LOG 20180125-09_05_46] training status, epoch: [0010/0010], batch: 1000, loss: 0.0006514696\n",
      "[LOG 20180125-09_05_55] training status, epoch: [0010/0010], batch: 1100, loss: 0.0008656787\n",
      "[LOG 20180125-09_06_01] training status, epoch: [0010/0010], batch: 1200, loss: 0.0007684819\n",
      "[LOG 20180125-09_06_06] training status, epoch: [0010/0010], batch: 1300, loss: 0.0013217231\n",
      "[LOG 20180125-09_06_12] training status, epoch: [0010/0010], batch: 1400, loss: 0.0003702825\n",
      "[LOG 20180125-09_06_15] training status, epoch: [0010/0010], batch: 1500, loss: 0.0001820832\n",
      "[LOG 20180125-09_06_18] training status, epoch: [0010/0010], batch: 1600, loss: 0.0003026466\n",
      "[LOG 20180125-09_06_21] training status, epoch: [0010/0010], batch: 1700, loss: 0.0001864629\n",
      "[LOG 20180125-09_06_23] training status, epoch: [0010/0010], batch: 1800, loss: 0.0001655325\n",
      "[LOG 20180125-09_06_26] training status, epoch: [0010/0010], batch: 1900, loss: 0.0000604192\n",
      "[LOG 20180125-09_06_29] training status, epoch: [0010/0010], batch: 2000, loss: 0.0003092249\n",
      "[LOG 20180125-09_06_32] training status, epoch: [0010/0010], batch: 2100, loss: 0.0000612267\n",
      "[LOG 20180125-09_06_36] training status, epoch: [0010/0010], batch: 2200, loss: 0.0001154397\n",
      "[LOG 20180125-09_06_44] training status, epoch: [0010/0010], batch: 2300, loss: 0.0002173854\n",
      "[LOG 20180125-09_06_55] training status, epoch: [0010/0010], batch: 2400, loss: 0.0008612431\n"
     ]
    }
   ],
   "source": [
    "# init deterministic seed\n",
    "seed_value = 1234 #4444 #3333 #2222 #1111 #1234\n",
    "rd.seed(seed_value) # set random seed\n",
    "np.random.seed(seed_value) # set numpy seed\n",
    "torch.manual_seed(seed_value) # set pytorch seed CPU\n",
    "torch.cuda.manual_seed(seed_value) # set pytorch seed GPU\n",
    "\n",
    "# init training parameters\n",
    "num_epochs = 10\n",
    "mini_batch_size = 128\n",
    "learning_rate = 1e-3\n",
    "\n",
    "# convert to pytorch tensor - none cuda enabled\n",
    "dataloader = DataLoader(torch_dataset, batch_size=mini_batch_size, shuffle=True, num_workers=0)\n",
    "# set num_workers to zero to retreive deterministic results\n",
    "\n",
    "# determine if CUDA is available at compute node\n",
    "if (torch.backends.cudnn.version() != None):\n",
    "\n",
    "    dataloader = DataLoader(torch_dataset.cuda(), batch_size=mini_batch_size, shuffle=True)\n",
    "\n",
    "# define optimization criterion and optimizer\n",
    "criterion = nn.BCEWithLogitsLoss()\n",
    "encoder_optimizer = torch.optim.Adam(encoder_train.parameters(), lr=learning_rate)\n",
    "decoder_optimizer = torch.optim.Adam(decoder_train.parameters(), lr=learning_rate)\n",
    "\n",
    "# train autoencoder model\n",
    "for epoch in range(num_epochs):\n",
    "\n",
    "    # init mini batch counter\n",
    "    mini_batch_count = 0\n",
    "\n",
    "    # determine if CUDA is available at compute node\n",
    "    if (torch.backends.cudnn.version() != None) and (use_cuda == True):\n",
    "\n",
    "        # set all networks / models in CPU mode\n",
    "        encoder_train.cuda()\n",
    "        decoder_train.cuda()\n",
    "\n",
    "    # set networks in training mode (apply dropout when needed)\n",
    "    encoder_train.train()\n",
    "    decoder_train.train()\n",
    "\n",
    "    for mini_batch_data in dataloader:\n",
    "\n",
    "        # increase mini batch counter\n",
    "        mini_batch_count += 1\n",
    "\n",
    "        # convert mini batch to torch variable\n",
    "        mini_batch_torch = autograd.Variable(mini_batch_data)\n",
    "\n",
    "        # =================== forward pass =====================\n",
    "\n",
    "        # run forward pass\n",
    "        z_representation = encoder_train(mini_batch_torch) # encode mini-batch data\n",
    "        mini_batch_reconstruction = decoder_train(z_representation) # decode mini-batch data\n",
    "\n",
    "        # determine reconstruction loss\n",
    "        reconstruction_loss = criterion(mini_batch_reconstruction, mini_batch_torch)\n",
    "\n",
    "        # =================== backward pass ====================\n",
    "\n",
    "        # reset graph gradients\n",
    "        decoder_optimizer.zero_grad()\n",
    "        encoder_optimizer.zero_grad()\n",
    "\n",
    "        # run backward pass\n",
    "        reconstruction_loss.backward()\n",
    "\n",
    "        # update network parameters\n",
    "        decoder_optimizer.step()\n",
    "        encoder_optimizer.step()\n",
    "\n",
    "        # =================== log ==============================\n",
    "\n",
    "        if mini_batch_count % 100 == 0:\n",
    "\n",
    "            # print mini batch reconstuction results\n",
    "            now = datetime.utcnow().strftime(\"%Y%m%d-%H_%M_%S\")\n",
    "            print('[LOG {}] training status, epoch: [{:04}/{:04}], batch: {:04}, loss: {:.10f}'.format(now, (epoch+1), num_epochs, mini_batch_count, reconstruction_loss.data[0]))\n",
    "\n",
    "    # save trained encoder model file to disk\n",
    "    now = datetime.utcnow().strftime(\"%Y%m%d-%H_%M_%S\")\n",
    "    encoder_model_name = \"{}_ep_{}_encoder_model.pth\".format(now, (epoch+1))\n",
    "    torch.save(encoder_train.state_dict(), os.path.join(\"models\", encoder_model_name))\n",
    "\n",
    "    # save trained decoder model file to disk\n",
    "    decoder_model_name = \"{}_ep_{}_decoder_model.pth\".format(now, (epoch+1))\n",
    "    torch.save(decoder_train.state_dict(), os.path.join(\"models\", decoder_model_name))"
   ]
  },
  {
   "cell_type": "markdown",
   "metadata": {},
   "source": [
    "## 06. Result Evaluation"
   ]
  },
  {
   "cell_type": "code",
   "execution_count": 14,
   "metadata": {
    "collapsed": false
   },
   "outputs": [],
   "source": [
    "# specify trained models to be loaded\n",
    "#encoder_model_name = \"20180125-06_44_14_ep_1_encoder_model.pth\"\n",
    "#decoder_model_name = \"20180125-06_44_14_ep_1_decoder_model.pth\"\n",
    "\n",
    "# init training network classes / architectures\n",
    "encoder_eval = encoder()\n",
    "decoder_eval = decoder()\n",
    "\n",
    "# load trained models\n",
    "encoder_eval.load_state_dict(torch.load(os.path.join(\"models\", encoder_model_name)))\n",
    "decoder_eval.load_state_dict(torch.load(os.path.join(\"models\", decoder_model_name)))"
   ]
  },
  {
   "cell_type": "code",
   "execution_count": 15,
   "metadata": {
    "collapsed": false
   },
   "outputs": [],
   "source": [
    "# convert encoded transactional data to torch Variable\n",
    "data = autograd.Variable(torch_dataset)\n",
    "\n",
    "# set networks in training mode (don't apply dropout)\n",
    "encoder_eval.eval()\n",
    "decoder_eval.eval()\n",
    "\n",
    "# reconstruct encoded transactional data\n",
    "reconstruction = decoder_eval(encoder_eval(data))"
   ]
  },
  {
   "cell_type": "code",
   "execution_count": 16,
   "metadata": {
    "collapsed": false
   },
   "outputs": [
    {
     "name": "stdout",
     "output_type": "stream",
     "text": [
      "[LOG 20180125-09:07:16] collected reconstruction loss of: 307457/307457 transactions\n",
      "[LOG 20180125-09:07:16] reconstruction loss: 0.0003191435\n"
     ]
    }
   ],
   "source": [
    "# determine reconstruction loss - all transactions\n",
    "reconstruction_loss_all = criterion(reconstruction, data)\n",
    "\n",
    "# print reconstruction loss - all transactions\n",
    "now = datetime.utcnow().strftime(\"%Y%m%d-%H:%M:%S\")\n",
    "print('[LOG {}] collected reconstruction loss of: {:06}/{:06} transactions'.format(now, reconstruction.size()[0], reconstruction.size()[0]))\n",
    "print('[LOG {}] reconstruction loss: {:.10f}'.format(now, reconstruction_loss_all.data[0]))"
   ]
  },
  {
   "cell_type": "code",
   "execution_count": 17,
   "metadata": {
    "collapsed": false
   },
   "outputs": [
    {
     "name": "stdout",
     "output_type": "stream",
     "text": [
      "[LOG 20180125-09:07:16] collected individial reconstruction loss of: 000000/307457 transactions\n",
      "[LOG 20180125-09:07:28] collected individial reconstruction loss of: 100000/307457 transactions\n",
      "[LOG 20180125-09:07:38] collected individial reconstruction loss of: 200000/307457 transactions\n",
      "[LOG 20180125-09:07:49] collected individial reconstruction loss of: 300000/307457 transactions\n"
     ]
    }
   ],
   "source": [
    "# init binary cross entropy errors\n",
    "reconstruction_loss_transaction = np.zeros(reconstruction.size()[0])\n",
    "\n",
    "# iterate over all detailed reconstructions\n",
    "for i in range(0, reconstruction.size()[0]):\n",
    "\n",
    "    # determine reconstruction loss - individual transactions\n",
    "    reconstruction_loss_transaction[i] = criterion(reconstruction[i], data[i])\n",
    "\n",
    "    if(i % 100000 == 0):\n",
    "\n",
    "        ### print conversion summary\n",
    "        now = datetime.utcnow().strftime(\"%Y%m%d-%H:%M:%S\")\n",
    "        print('[LOG {}] collected individial reconstruction loss of: {:06}/{:06} transactions'.format(now, i, reconstruction.size()[0]))"
   ]
  },
  {
   "cell_type": "code",
   "execution_count": 20,
   "metadata": {
    "collapsed": false
   },
   "outputs": [
    {
     "data": {
      "text/plain": [
       "<matplotlib.collections.PathCollection at 0x109b77b10>"
      ]
     },
     "execution_count": 20,
     "metadata": {},
     "output_type": "execute_result"
    },
    {
     "data": {
      "image/png": "[encoded data removed]",
      "text/plain": [
       "<matplotlib.figure.Figure at 0x108ac1650>"
      ]
     },
     "metadata": {},
     "output_type": "display_data"
    }
   ],
   "source": [
    "# prepare plot\n",
    "fig = plt.figure()\n",
    "ax = fig.add_subplot(111)\n",
    "\n",
    "labels = np.array(ori_dataset.Artifical_Outlier)\n",
    "ids = np.array(ori_dataset.ID_Key, ori_dataset.Artifical_Outlier)\n",
    "\n",
    "regular_x = ids[np.where(labels==0)]\n",
    "regular_y = reconstruction_loss_transaction[np.where(labels==0)]\n",
    "\n",
    "# plot error scatter plot\n",
    "ax.scatter(regular_x, regular_y, c='C0', alpha=0.4, marker=\"o\") # plot regular transactions\n",
    "\n",
    "anomaly_1_x = ids[np.where(labels==1)]\n",
    "anomaly_1_y = reconstruction_loss_transaction[np.where(labels==1)]\n",
    "\n",
    "# plot error scatter plot\n",
    "ax.scatter(anomaly_1_x, anomaly_1_y, c='C1', marker=\"^\") # plot regular transactions\n",
    "\n",
    "anomaly_2_x = ids[np.where(labels==2)]\n",
    "anomaly_2_y = reconstruction_loss_transaction[np.where(labels==2)]\n",
    "\n",
    "# plot error scatter plot\n",
    "ax.scatter(anomaly_2_x, anomaly_2_y, c='C3', marker=\"^\") # plot regular transactions"
   ]
  },
  {
   "cell_type": "markdown",
   "metadata": {},
   "source": [
    "## 07. Optional Excercises"
   ]
  },
  {
   "cell_type": "markdown",
   "metadata": {},
   "source": [
    "ToDo - Timur and Marco"
   ]
  },
  {
   "cell_type": "markdown",
   "metadata": {},
   "source": [
    "## 08. Lab Summary"
   ]
  },
  {
   "cell_type": "markdown",
   "metadata": {},
   "source": [
    "ToDo - Timur and Marco"
   ]
  },
  {
   "cell_type": "markdown",
   "metadata": {},
   "source": [
    "## 09. Next Steps"
   ]
  },
  {
   "cell_type": "markdown",
   "metadata": {},
   "source": [
    "ToDo - Timur and Marco"
   ]
  },
  {
   "cell_type": "code",
   "execution_count": null,
   "metadata": {
    "collapsed": true
   },
   "outputs": [],
   "source": []
  }
 ],
 "metadata": {
  "kernelspec": {
   "display_name": "Python 2",
   "language": "python",
   "name": "python2"
  },
  "language_info": {
   "codemirror_mode": {
    "name": "ipython",
    "version": 2
   },
   "file_extension": ".py",
   "mimetype": "text/x-python",
   "name": "python",
   "nbconvert_exporter": "python",
   "pygments_lexer": "ipython2",
   "version": "2.7.11"
  }
 },
 "nbformat": 4,
 "nbformat_minor": 2
}
